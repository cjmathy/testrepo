{
 "cells": [
  {
   "cell_type": "markdown",
   "metadata": {},
   "source": [
    "R Template\n",
    "======================"
   ]
  },
  {
   "cell_type": "code",
   "execution_count": 1,
   "metadata": {},
   "outputs": [
    {
     "data": {
      "text/html": [
       "'/Users/cjmathy/gdrive/labproject_cookiecutter/labnotebook'"
      ],
      "text/latex": [
       "'/Users/cjmathy/gdrive/labproject\\_cookiecutter/labnotebook'"
      ],
      "text/markdown": [
       "'/Users/cjmathy/gdrive/labproject_cookiecutter/labnotebook'"
      ],
      "text/plain": [
       "[1] \"/Users/cjmathy/gdrive/labproject_cookiecutter/labnotebook\""
      ]
     },
     "metadata": {},
     "output_type": "display_data"
    }
   ],
   "source": [
    "library(stats)\n",
    "getwd()"
   ]
  }
 ],
 "metadata": {
  "jupytext": {
   "text_representation": {
    "extension": ".md",
    "format_name": "myst",
    "format_version": 0.12,
    "jupytext_version": "1.6.0"
   }
  },
  "kernelspec": {
   "display_name": "R",
   "language": "R",
   "name": "ir"
  },
  "language_info": {
   "codemirror_mode": "r",
   "file_extension": ".r",
   "mimetype": "text/x-r-source",
   "name": "R",
   "pygments_lexer": "r",
   "version": "4.0.3"
  },
  "source_map": [
   12,
   17
  ]
 },
 "nbformat": 4,
 "nbformat_minor": 4
}