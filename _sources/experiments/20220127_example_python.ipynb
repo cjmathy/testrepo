{
 "cells": [
  {
   "cell_type": "markdown",
   "id": "f5af7f71",
   "metadata": {},
   "source": [
    "# 2022-01-27 Example with Python code\n",
    "\n",
    "\n",
    "Do some science"
   ]
  },
  {
   "cell_type": "code",
   "execution_count": 1,
   "id": "7b0c27c6",
   "metadata": {},
   "outputs": [
    {
     "data": {
      "text/plain": [
       "'/Users/cjmathy/gdrive/labproject_cookiecutter/labnotebook/experiments'"
      ]
     },
     "execution_count": 1,
     "metadata": {},
     "output_type": "execute_result"
    }
   ],
   "source": [
    "import os\n",
    "\n",
    "os.getcwd()\n"
   ]
  }
 ],
 "metadata": {
  "jupytext": {
   "formats": "md:myst",
   "text_representation": {
    "extension": ".md",
    "format_name": "myst"
   }
  },
  "kernelspec": {
   "display_name": "Python 3",
   "language": "python",
   "name": "python3"
  },
  "language_info": {
   "codemirror_mode": {
    "name": "ipython",
    "version": 3
   },
   "file_extension": ".py",
   "mimetype": "text/x-python",
   "name": "python",
   "nbconvert_exporter": "python",
   "pygments_lexer": "ipython3",
   "version": "3.8.4"
  },
  "source_map": [
   11,
   18
  ]
 },
 "nbformat": 4,
 "nbformat_minor": 5
}